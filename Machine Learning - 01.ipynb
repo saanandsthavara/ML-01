{
 "cells": [
  {
   "cell_type": "markdown",
   "id": "b86fc85b",
   "metadata": {},
   "source": [
    "# Introduction"
   ]
  },
  {
   "cell_type": "markdown",
   "id": "c1cb00e3",
   "metadata": {},
   "source": [
    "Here we are going to learn machine learning and it's applications.\n",
    "We will have Different levels of learning\n",
    "\n",
    "L1-Testing the waters : where we will learn about the python and getting started with the machine learning\n",
    "L2-Conceptual basics of Machine Learning : We will learn about the machine learning concepts and it's implementatiions\n",
    "L3-Learing Practical Concepts : We will learn about the practical applications of machine learning\n",
    "L4-Diving into different domains : Will get deeper into "
   ]
  }
 ],
 "metadata": {
  "kernelspec": {
   "display_name": "Python 3 (ipykernel)",
   "language": "python",
   "name": "python3"
  },
  "language_info": {
   "codemirror_mode": {
    "name": "ipython",
    "version": 3
   },
   "file_extension": ".py",
   "mimetype": "text/x-python",
   "name": "python",
   "nbconvert_exporter": "python",
   "pygments_lexer": "ipython3",
   "version": "3.8.13"
  }
 },
 "nbformat": 4,
 "nbformat_minor": 5
}
